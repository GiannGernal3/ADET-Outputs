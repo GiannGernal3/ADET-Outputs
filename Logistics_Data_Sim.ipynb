{
 "cells": [
  {
   "cell_type": "code",
   "execution_count": 5,
   "id": "cff4a93f-126f-4210-987f-f634048ff032",
   "metadata": {},
   "outputs": [
    {
     "name": "stdout",
     "output_type": "stream",
     "text": [
      "   Parcel #       Origin Destination        Date Departed         Date Arrived\n",
      "0  Parcel 1         Cebu   Zamboanga  2025-25-04 21-02-27  2025-01-05 03-51-27\n",
      "1  Parcel 2        Davao      Taguig  2025-05-05 23-18-27  2025-11-05 08-36-27\n",
      "2  Parcel 3       Manila      Makati  2025-01-05 20-38-27  2025-08-05 13-29-27\n",
      "3  Parcel 4         Cebu      Baguio  2025-07-05 04-32-27  2025-10-05 19-03-27\n",
      "4  Parcel 5  Quezon City      Taguig  2025-12-04 10-34-27  2025-13-04 22-11-27\n"
     ]
    }
   ],
   "source": [
    "import random\n",
    "import time\n",
    "import pandas as pd\n",
    "from datetime import datetime, timedelta\n",
    "\n",
    "# Sample Philippine Cities\n",
    "philippine_cities = [\n",
    "    \"Manila\", \"Quezon City\", \"Caloocan\", \"Cavite\", \"Davao\", \"Cebu\", \n",
    "    \"Makati\", \"Pasig\", \"Taguig\", \"Iloilo\", \"Zamboanga\", \"Baguio\"\n",
    "]\n",
    "\n",
    "# Function to simulate logistics parcel data\n",
    "def generate_logistics_data(samples=5):\n",
    "    \"\"\"\n",
    "    Generates simulated logistics data with parcel movement information.\n",
    "    \n",
    "    Parameters:\n",
    "    samples (int): Number of parcels to generate.\n",
    "    \n",
    "    Returns:\n",
    "    pd.DataFrame: A DataFrame containing simulated logistics data.\n",
    "    \"\"\"\n",
    "    data = []\n",
    "\n",
    "    for i in range(samples):\n",
    "        parcel_id = f\"Parcel {i + 1}\"\n",
    "        \n",
    "        # Ensures destination is not the same as origin\n",
    "        origin = random.choice(philippine_cities)\n",
    "        destination = random.choice([city for city in philippine_cities if city != origin])\n",
    "\n",
    "        # Random departure date within last 30 days\n",
    "        days_ago = random.randint(1, 30)\n",
    "        departure_datetime = datetime.now() - timedelta(days=days_ago, hours=random.randint(0, 23), minutes=random.randint(0, 59))\n",
    "        \n",
    "        # Random arrival date 1 to 7 days after departure\n",
    "        arrival_datetime = departure_datetime + timedelta(days=random.randint(1, 7), hours=random.randint(0, 23), minutes=random.randint(0, 59))\n",
    "\n",
    "        # Format datetime as \"year-day-month hour-minute-second\"\n",
    "        date_format = \"%Y-%d-%m %H-%M-%S\"\n",
    "        date_departed = departure_datetime.strftime(date_format)\n",
    "        date_arrived = arrival_datetime.strftime(date_format)\n",
    "\n",
    "        data.append([parcel_id, origin, destination, date_departed, date_arrived])\n",
    "\n",
    "    return pd.DataFrame(data, columns=[\"Parcel #\", \"Origin\", \"Destination\", \"Date Departed\", \"Date Arrived\"])\n",
    "\n",
    "# Generate and display simulated logistics data\n",
    "logistics_data = generate_logistics_data(5)\n",
    "print(logistics_data)\n",
    "\n",
    "logistics_data.to_csv(\"logistics_data.csv\", index=False)"
   ]
  },
  {
   "cell_type": "code",
   "execution_count": null,
   "id": "69b40c87-5525-442c-93d1-887f22ef94a2",
   "metadata": {},
   "outputs": [],
   "source": []
  }
 ],
 "metadata": {
  "kernelspec": {
   "display_name": "Python 3 (ipykernel)",
   "language": "python",
   "name": "python3"
  },
  "language_info": {
   "codemirror_mode": {
    "name": "ipython",
    "version": 3
   },
   "file_extension": ".py",
   "mimetype": "text/x-python",
   "name": "python",
   "nbconvert_exporter": "python",
   "pygments_lexer": "ipython3",
   "version": "3.13.3"
  }
 },
 "nbformat": 4,
 "nbformat_minor": 5
}
