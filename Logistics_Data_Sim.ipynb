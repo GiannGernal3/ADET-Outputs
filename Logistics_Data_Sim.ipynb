{
 "cells": [
  {
   "cell_type": "code",
   "execution_count": 2,
   "id": "cff4a93f-126f-4210-987f-f634048ff032",
   "metadata": {},
   "outputs": [
    {
     "name": "stdout",
     "output_type": "stream",
     "text": [
      "     Parcel #     Origin Destination        Date Departed         Date Arrived\n",
      "0   Parcel 21     Iloilo       Davao  2025-08-06 06-56-14  2025-16-06 06-50-14\n",
      "1   Parcel 22    Bulacan        Cebu  2025-31-05 19-37-14  2025-05-06 00-28-14\n",
      "2   Parcel 23    Bulacan       Davao  2025-26-05 17-42-14  2025-01-06 17-06-14\n",
      "3   Parcel 24     Baguio      Manila  2025-31-05 08-30-14  2025-07-06 14-25-14\n",
      "4   Parcel 25  Zamboanga      Manila  2025-14-06 19-46-14  2025-16-06 07-00-14\n",
      "5   Parcel 26       Cebu       Davao  2025-13-06 02-46-14  2025-18-06 14-19-14\n",
      "6   Parcel 27       Cebu    Caloocan  2025-12-06 00-14-14  2025-14-06 07-15-14\n",
      "7   Parcel 28      Pasig      Iloilo  2025-30-05 14-33-14  2025-05-06 02-21-14\n",
      "8   Parcel 29       Cebu      Iloilo  2025-24-05 23-24-14  2025-29-05 22-56-14\n",
      "9   Parcel 30     Taguig      Cavite  2025-14-06 16-35-14  2025-20-06 15-09-14\n",
      "10  Parcel 31  Zamboanga      Manila  2025-27-05 08-16-14  2025-29-05 21-04-14\n",
      "11  Parcel 32       Cebu   Zamboanga  2025-29-05 09-10-14  2025-02-06 06-26-14\n",
      "12  Parcel 33      Davao      Taguig  2025-29-05 00-06-14  2025-03-06 20-05-14\n",
      "13  Parcel 34     Cavite    Caloocan  2025-23-05 18-18-14  2025-26-05 00-04-14\n",
      "14  Parcel 35    Bulacan        Cebu  2025-28-05 21-19-14  2025-29-05 22-25-14\n"
     ]
    }
   ],
   "source": [
    "import random\n",
    "import os\n",
    "import time\n",
    "import pandas as pd\n",
    "from datetime import datetime, timedelta\n",
    "\n",
    "# Sample Philippine Cities\n",
    "philippine_cities = [\n",
    "    \"Manila\", \"Quezon City\", \"Caloocan\", \"Cavite\", \"Davao\", \"Cebu\", \n",
    "    \"Makati\", \"Pasig\", \"Taguig\", \"Iloilo\", \"Zamboanga\", \"Baguio\", \"Bulacan\"\n",
    "]\n",
    "\n",
    "# Check how many records already exist in the CSV (if any)\n",
    "filename = \"logistics_data.csv\"\n",
    "if os.path.exists(filename):\n",
    "    existing_data = pd.read_csv(filename)\n",
    "    start_index = len(existing_data)\n",
    "else:\n",
    "    start_index = 0\n",
    "\n",
    "# Function to simulate logistics parcel data\n",
    "def generate_logistics_data(samples=15, start=start_index):\n",
    "    \"\"\"\n",
    "    Generates simulated logistics data with parcel movement information.\n",
    "    \n",
    "    Parameters:\n",
    "    samples (int): Number of parcels to generate.\n",
    "    \n",
    "    Returns:\n",
    "    pd.DataFrame: A DataFrame containing simulated logistics data.\n",
    "    \"\"\"\n",
    "    data = []\n",
    "\n",
    "    for i in range(samples):\n",
    "        parcel_id = f\"Parcel {start + i + 1}\"  # This ensures unique numbering\n",
    "        \n",
    "        # Ensures destination is not the same as origin\n",
    "        origin = random.choice(philippine_cities)\n",
    "        destination = random.choice([city for city in philippine_cities if city != origin])\n",
    "\n",
    "        # Random departure date within last 30 days\n",
    "        days_ago = random.randint(1, 30)\n",
    "        departure_datetime = datetime.now() - timedelta(days=days_ago, hours=random.randint(0, 23), minutes=random.randint(0, 59))\n",
    "        \n",
    "        # Random arrival date 1 to 7 days after departure\n",
    "        arrival_datetime = departure_datetime + timedelta(days=random.randint(1, 7), hours=random.randint(0, 23), minutes=random.randint(0, 59))\n",
    "\n",
    "        # Format datetime as \"year-day-month hour-minute-second\"\n",
    "        date_format = \"%Y-%d-%m %H-%M-%S\"\n",
    "        date_departed = departure_datetime.strftime(date_format)\n",
    "        date_arrived = arrival_datetime.strftime(date_format)\n",
    "\n",
    "        data.append([parcel_id, origin, destination, date_departed, date_arrived])\n",
    "\n",
    "    return pd.DataFrame(data, columns=[\"Parcel #\", \"Origin\", \"Destination\", \"Date Departed\", \"Date Arrived\"])\n",
    "\n",
    "# Generate and display simulated logistics data\n",
    "logistics_data = generate_logistics_data(15)\n",
    "print(logistics_data)\n",
    "\n",
    "# Append to existing CSV, don't overwrite it\n",
    "logistics_data.to_csv(\"logistics_data.csv\", mode='a', header=False, index=False)"
   ]
  },
  {
   "cell_type": "code",
   "execution_count": null,
   "id": "69b40c87-5525-442c-93d1-887f22ef94a2",
   "metadata": {},
   "outputs": [],
   "source": []
  }
 ],
 "metadata": {
  "kernelspec": {
   "display_name": "Python 3 (ipykernel)",
   "language": "python",
   "name": "python3"
  },
  "language_info": {
   "codemirror_mode": {
    "name": "ipython",
    "version": 3
   },
   "file_extension": ".py",
   "mimetype": "text/x-python",
   "name": "python",
   "nbconvert_exporter": "python",
   "pygments_lexer": "ipython3",
   "version": "3.13.1"
  }
 },
 "nbformat": 4,
 "nbformat_minor": 5
}
