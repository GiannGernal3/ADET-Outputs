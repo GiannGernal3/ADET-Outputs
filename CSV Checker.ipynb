{
 "cells": [
  {
   "cell_type": "code",
   "execution_count": 1,
   "id": "70ac2e92-0714-401b-8761-20996dbe78fb",
   "metadata": {},
   "outputs": [
    {
     "name": "stdout",
     "output_type": "stream",
     "text": [
      "     Parcel #       Origin Destination        Date Departed  \\\n",
      "0    Parcel 1         Cebu   Zamboanga  2025-25-04 09:02:27   \n",
      "1    Parcel 2        Davao      Taguig  2025-05-05 11:18:27   \n",
      "2    Parcel 3       Manila      Makati  2025-01-05 08:38:27   \n",
      "3    Parcel 4         Cebu      Baguio  2025-07-05 04:32:27   \n",
      "4    Parcel 5  Quezon City      Taguig  2025-12-04 10:34:27   \n",
      "5    Parcel 6       Baguio      Iloilo  2025-07-06 11:29:46   \n",
      "6    Parcel 7       Iloilo        Cebu  2025-14-06 08:43:46   \n",
      "7    Parcel 8       Baguio      Manila  2025-10-06 00:09:46   \n",
      "8    Parcel 9    Zamboanga       Pasig  2025-06-06 09:52:46   \n",
      "9   Parcel 10       Cavite        Cebu  2025-03-06 10:10:46   \n",
      "10  Parcel 11         Cebu      Makati  2025-15-06 04:44:46   \n",
      "11  Parcel 12        Davao        Cebu  2025-04-06 07:04:46   \n",
      "12  Parcel 13     Caloocan      Baguio  2025-21-05 08:48:46   \n",
      "13  Parcel 14       Taguig    Caloocan  2025-13-06 08:43:46   \n",
      "14  Parcel 15       Manila      Cavite  2025-06-06 02:08:46   \n",
      "15  Parcel 16       Iloilo       Davao  2025-08-06 06:56:14   \n",
      "16  Parcel 17      Bulacan        Cebu  2025-31-05 07:37:14   \n",
      "17  Parcel 18      Bulacan       Davao  2025-26-05 05:42:14   \n",
      "18  Parcel 19       Baguio      Manila  2025-31-05 08:30:14   \n",
      "19  Parcel 20    Zamboanga      Manila  2025-14-06 07:46:14   \n",
      "20  Parcel 21         Cebu       Davao  2025-13-06 02:46:14   \n",
      "21  Parcel 22         Cebu    Caloocan  2025-12-06 00:14:14   \n",
      "22  Parcel 23        Pasig      Iloilo  2025-30-05 02:33:14   \n",
      "23  Parcel 24         Cebu      Iloilo  2025-24-05 11:24:14   \n",
      "24  Parcel 25       Taguig      Cavite  2025-14-06 04:35:14   \n",
      "25  Parcel 26    Zamboanga      Manila  2025-27-05 08:16:14   \n",
      "26  Parcel 27         Cebu   Zamboanga  2025-29-05 09:10:14   \n",
      "27  Parcel 28        Davao      Taguig  2025-29-05 00:06:14   \n",
      "28  Parcel 29       Cavite    Caloocan  2025-23-05 06:18:14   \n",
      "29  Parcel 30      Bulacan        Cebu  2025-28-05 09:19:14   \n",
      "\n",
      "           Date Arrived  \n",
      "0   2025-01-05 03:51:27  \n",
      "1   2025-11-05 08:36:27  \n",
      "2   2025-08-05 01:29:27  \n",
      "3   2025-10-05 07:03:27  \n",
      "4   2025-13-04 10:11:27  \n",
      "5   2025-15-06 03:24:46  \n",
      "6   2025-15-06 12:23:46  \n",
      "7   2025-15-06 09:13:46  \n",
      "8   2025-13-06 03:46:46  \n",
      "9   2025-07-06 03:17:46  \n",
      "10  2025-22-06 00:00:46  \n",
      "11  2025-07-06 00:38:46  \n",
      "12  2025-26-05 02:17:46  \n",
      "13  2025-15-06 04:29:46  \n",
      "14  2025-10-06 05:29:46  \n",
      "15  2025-16-06 06:50:14  \n",
      "16  2025-05-06 00:28:14  \n",
      "17  2025-01-06 05:06:14  \n",
      "18  2025-07-06 02:25:14  \n",
      "19  2025-16-06 07:00:14  \n",
      "20  2025-18-06 02:19:14  \n",
      "21  2025-14-06 07:15:14  \n",
      "22  2025-05-06 02:21:14  \n",
      "23  2025-29-05 10:56:14  \n",
      "24  2025-20-06 03:09:14  \n",
      "25  2025-29-05 09:04:14  \n",
      "26  2025-02-06 06:26:14  \n",
      "27  2025-03-06 08:05:14  \n",
      "28  2025-26-05 00:04:14  \n",
      "29  2025-29-05 10:25:14  \n",
      "\n",
      "📦 Total parcels in CSV: 30\n"
     ]
    }
   ],
   "source": [
    "import pandas as pd\n",
    "\n",
    "# Load the CSV file\n",
    "df = pd.read_csv(\"logistics_data.csv\")\n",
    "\n",
    "# Show all rows (temporarily remove display limit)\n",
    "pd.set_option('display.max_rows', None)\n",
    "\n",
    "# Print the entire DataFrame\n",
    "print(df)\n",
    "\n",
    "# Print total number of parcels\n",
    "print(f\"\\n📦 Total parcels in CSV: {len(df)}\")"
   ]
  },
  {
   "cell_type": "code",
   "execution_count": null,
   "id": "08ea8363-50df-45d6-812e-af03bf0ccf3c",
   "metadata": {},
   "outputs": [],
   "source": []
  }
 ],
 "metadata": {
  "kernelspec": {
   "display_name": "Python 3 (ipykernel)",
   "language": "python",
   "name": "python3"
  },
  "language_info": {
   "codemirror_mode": {
    "name": "ipython",
    "version": 3
   },
   "file_extension": ".py",
   "mimetype": "text/x-python",
   "name": "python",
   "nbconvert_exporter": "python",
   "pygments_lexer": "ipython3",
   "version": "3.13.1"
  }
 },
 "nbformat": 4,
 "nbformat_minor": 5
}
