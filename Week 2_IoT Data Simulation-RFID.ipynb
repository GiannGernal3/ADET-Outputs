{
 "cells": [
  {
   "cell_type": "code",
   "execution_count": 4,
   "id": "0b00e6bd-b4f9-416e-8b84-02a26ba2cafa",
   "metadata": {},
   "outputs": [
    {
     "name": "stdout",
     "output_type": "stream",
     "text": [
      "✅ RFID scan data saved to rfid_data.csv\n",
      "   Parcel #   Checkpoint       Scan Timestamp  RFID Tag     Location\n",
      "0  Parcel 1       Origin  2025-04-25 09:02:27  RFID0001         Cebu\n",
      "1  Parcel 1  Transit Hub  2025-04-28 06:26:57  RFID0001  Transit Hub\n",
      "2  Parcel 1  Destination  2025-05-01 03:51:27  RFID0001    Zamboanga\n",
      "3  Parcel 2       Origin  2025-05-05 11:18:27  RFID0002        Davao\n",
      "4  Parcel 2  Transit Hub  2025-05-08 09:57:27  RFID0002  Transit Hub\n"
     ]
    }
   ],
   "source": [
    "import random\n",
    "import os\n",
    "import pandas as pd\n",
    "from datetime import datetime, timedelta\n",
    "\n",
    "# Load existing logistics data\n",
    "logistics_file = \"logistics_data.csv\"\n",
    "if not os.path.exists(logistics_file):\n",
    "    raise FileNotFoundError(\"❌ logistics_data.csv not found. Please generate it first.\")\n",
    "\n",
    "df = pd.read_csv(logistics_file)\n",
    "\n",
    "# Format of original datetime strings\n",
    "datetime_format = \"%Y-%d-%m %H:%M:%S\"\n",
    "\n",
    "# Checkpoints\n",
    "checkpoints = [\"Origin\", \"Transit Hub\", \"Destination\"]\n",
    "\n",
    "# RFID scan records\n",
    "rfid_records = []\n",
    "\n",
    "for index, row in df.iterrows():\n",
    "    parcel_id = row[\"Parcel #\"]\n",
    "    origin = row[\"Origin\"]\n",
    "    destination = row[\"Destination\"]\n",
    "    rfid_tag = f\"RFID{str(index + 1).zfill(4)}\"\n",
    "\n",
    "    # Parse departure and arrival time\n",
    "    departed_time = datetime.strptime(row[\"Date Departed\"], datetime_format)\n",
    "    arrived_time = datetime.strptime(row[\"Date Arrived\"], datetime_format)\n",
    "\n",
    "    # Generate 3 checkpoints: Origin, Transit, Destination\n",
    "    transit_time = departed_time + (arrived_time - departed_time) / 2\n",
    "\n",
    "    scan_times = [departed_time, transit_time, arrived_time]\n",
    "    locations = [origin, \"Transit Hub\", destination]\n",
    "\n",
    "    for checkpoint, scan_time, location in zip(checkpoints, scan_times, locations):\n",
    "        rfid_records.append({\n",
    "            \"Parcel #\": parcel_id,\n",
    "            \"Checkpoint\": checkpoint,\n",
    "            \"Scan Timestamp\": scan_time.strftime(\"%Y-%m-%d %H:%M:%S\"),\n",
    "            \"RFID Tag\": rfid_tag,\n",
    "            \"Location\": location\n",
    "        })\n",
    "\n",
    "# Create DataFrame\n",
    "rfid_df = pd.DataFrame(rfid_records)\n",
    "\n",
    "# Save to CSV\n",
    "rfid_df.to_csv(\"rfid_data.csv\", index=False)\n",
    "print(\"✅ RFID scan data saved to rfid_data.csv\")\n",
    "print(rfid_df.head())"
   ]
  }
 ],
 "metadata": {
  "kernelspec": {
   "display_name": "Python 3 (ipykernel)",
   "language": "python",
   "name": "python3"
  },
  "language_info": {
   "codemirror_mode": {
    "name": "ipython",
    "version": 3
   },
   "file_extension": ".py",
   "mimetype": "text/x-python",
   "name": "python",
   "nbconvert_exporter": "python",
   "pygments_lexer": "ipython3",
   "version": "3.13.1"
  }
 },
 "nbformat": 4,
 "nbformat_minor": 5
}
